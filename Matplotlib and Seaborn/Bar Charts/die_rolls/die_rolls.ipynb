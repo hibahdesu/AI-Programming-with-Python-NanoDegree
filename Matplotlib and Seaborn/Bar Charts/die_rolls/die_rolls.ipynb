{
 "cells": [
  {
   "cell_type": "markdown",
   "id": "8210aa5c-3085-499d-acd6-fb9bbb01cb61",
   "metadata": {},
   "source": [
    "## Preparatory Step"
   ]
  },
  {
   "cell_type": "code",
   "execution_count": null,
   "id": "15d30d68-6301-4cd3-bd50-47fb14ccf4fb",
   "metadata": {},
   "outputs": [],
   "source": []
  }
 ],
 "metadata": {
  "kernelspec": {
   "display_name": "Python 3 (ipykernel)",
   "language": "python",
   "name": "python3"
  },
  "language_info": {
   "codemirror_mode": {
    "name": "ipython",
    "version": 3
   },
   "file_extension": ".py",
   "mimetype": "text/x-python",
   "name": "python",
   "nbconvert_exporter": "python",
   "pygments_lexer": "ipython3",
   "version": "3.12.4"
  }
 },
 "nbformat": 4,
 "nbformat_minor": 5
}
